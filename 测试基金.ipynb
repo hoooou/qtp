{
 "cells": [
  {
   "cell_type": "code",
   "execution_count": null,
   "metadata": {},
   "outputs": [
    {
     "data": {
      "text/plain": [
       "10"
      ]
     },
     "execution_count": 3,
     "metadata": {},
     "output_type": "execute_result"
    }
   ],
   "source": [
    "\"\"\"\n",
    "用于设置策略参数并执行策略\n",
    "\"\"\"\n",
    "\n",
    "import pandas as pd\n",
    "import pybroker as pb\n",
    "from pybroker import Strategy\n",
    "from pybroker.ext.data import AKShare\n",
    "from data.data_resouce import AKShare_ETF, AKShare_ZHISHU\n",
    "from strategy.strategy_content import buy_with_indicator\n",
    "from strategy.strategy_chart import create_strategy_charts\n",
    "from indicator.indicator_talib import calculate_indicator\n",
    "import akshare as ak\n",
    "    \n",
    "# 定义全局参数 \"stock_code\"（股票代码）\n",
    "pb.param(name='stock_code', value='399001') \n",
    "# 定义全局参数 \"start_date\" 开始日期\n",
    "pb.param(name='start_date', value='20180801') \n",
    "# 定义全局参数 \"end_date\" 结束日期\n",
    "pb.param(name='end_date', value='20241101') \n",
    "\n",
    "# 定义全局参数 \"percent\"（持仓百分比） 1代表100% 0.25代表25%\n",
    "pb.param(name='percent', value=1)\n",
    "# 定义全局参数 \"stop_loss_pct\"（止损百分比）\n",
    "pb.param(name='stop_loss_pct', value=10)\n",
    "# 定义全局参数 \"stop_profit_pct\"（止盈百分比）\n",
    "pb.param(name='stop_profit_pct', value=10)"
   ]
  },
  {
   "cell_type": "code",
   "execution_count": null,
   "metadata": {},
   "outputs": [
    {
     "name": "stdout",
     "output_type": "stream",
     "text": [
      "Loading bar data...\n",
      "Loaded bar data: 0:00:01 \n",
      "\n",
      "打印股票数据\n",
      "Empty DataFrame\n",
      "Columns: [symbol, date, open, high, low, close, volume]\n",
      "Index: []\n",
      "打印技术指标\n",
      "Empty DataFrame\n",
      "Columns: [symbol, date, open, high, low, close, volume, macd, macdsignal, macdhist, MFI]\n",
      "Index: []\n",
      "Backtesting: 2018-08-01 00:00:00 to 2024-11-01 00:00:00\n",
      "\n"
     ]
    },
    {
     "ename": "ValueError",
     "evalue": "DataSource is empty.",
     "output_type": "error",
     "traceback": [
      "\u001b[0;31m---------------------------------------------------------------------------\u001b[0m",
      "\u001b[0;31mValueError\u001b[0m                                Traceback (most recent call last)",
      "Cell \u001b[0;32mIn[2], line 68\u001b[0m\n\u001b[1;32m     65\u001b[0m strategy\u001b[38;5;241m.\u001b[39madd_execution(buy_with_indicator, symbols\u001b[38;5;241m=\u001b[39m[pb\u001b[38;5;241m.\u001b[39mparam(name\u001b[38;5;241m=\u001b[39m\u001b[38;5;124m'\u001b[39m\u001b[38;5;124mstock_code\u001b[39m\u001b[38;5;124m'\u001b[39m)])\n\u001b[1;32m     67\u001b[0m \u001b[38;5;66;03m# 执行回测，并打印出回测结果的度量值（四舍五入到小数点后四位）\u001b[39;00m\n\u001b[0;32m---> 68\u001b[0m result \u001b[38;5;241m=\u001b[39m \u001b[43mstrategy\u001b[49m\u001b[38;5;241;43m.\u001b[39;49m\u001b[43mbacktest\u001b[49m\u001b[43m(\u001b[49m\u001b[43m)\u001b[49m\n\u001b[1;32m     69\u001b[0m \u001b[38;5;28mprint\u001b[39m(\u001b[38;5;124m'\u001b[39m\u001b[38;5;124m======基准收益率==========================\u001b[39m\u001b[38;5;124m'\u001b[39m)\n\u001b[1;32m     70\u001b[0m first_open \u001b[38;5;241m=\u001b[39m df[\u001b[38;5;124m'\u001b[39m\u001b[38;5;124mopen\u001b[39m\u001b[38;5;124m'\u001b[39m]\u001b[38;5;241m.\u001b[39miloc[\u001b[38;5;241m0\u001b[39m]\n",
      "File \u001b[0;32m~/restart_trader/.conda/lib/python3.11/site-packages/pybroker/strategy.py:1093\u001b[0m, in \u001b[0;36mStrategy.backtest\u001b[0;34m(self, start_date, end_date, timeframe, between_time, days, lookahead, train_size, shuffle, calc_bootstrap, disable_parallel, warmup, portfolio)\u001b[0m\n\u001b[1;32m   1024\u001b[0m \u001b[38;5;28;01mdef\u001b[39;00m \u001b[38;5;21mbacktest\u001b[39m(\n\u001b[1;32m   1025\u001b[0m     \u001b[38;5;28mself\u001b[39m,\n\u001b[1;32m   1026\u001b[0m     start_date: Optional[Union[\u001b[38;5;28mstr\u001b[39m, datetime]] \u001b[38;5;241m=\u001b[39m \u001b[38;5;28;01mNone\u001b[39;00m,\n\u001b[0;32m   (...)\u001b[0m\n\u001b[1;32m   1037\u001b[0m     portfolio: Optional[Portfolio] \u001b[38;5;241m=\u001b[39m \u001b[38;5;28;01mNone\u001b[39;00m,\n\u001b[1;32m   1038\u001b[0m ) \u001b[38;5;241m-\u001b[39m\u001b[38;5;241m>\u001b[39m TestResult:\n\u001b[1;32m   1039\u001b[0m \u001b[38;5;250m    \u001b[39m\u001b[38;5;124;03m\"\"\"Backtests the trading strategy by running executions that were added\u001b[39;00m\n\u001b[1;32m   1040\u001b[0m \u001b[38;5;124;03m    with :meth:`.add_execution`.\u001b[39;00m\n\u001b[1;32m   1041\u001b[0m \n\u001b[0;32m   (...)\u001b[0m\n\u001b[1;32m   1091\u001b[0m \u001b[38;5;124;03m        history, and evaluation metrics.\u001b[39;00m\n\u001b[1;32m   1092\u001b[0m \u001b[38;5;124;03m    \"\"\"\u001b[39;00m\n\u001b[0;32m-> 1093\u001b[0m     \u001b[38;5;28;01mreturn\u001b[39;00m \u001b[38;5;28;43mself\u001b[39;49m\u001b[38;5;241;43m.\u001b[39;49m\u001b[43mwalkforward\u001b[49m\u001b[43m(\u001b[49m\n\u001b[1;32m   1094\u001b[0m \u001b[43m        \u001b[49m\u001b[43mwindows\u001b[49m\u001b[38;5;241;43m=\u001b[39;49m\u001b[38;5;241;43m1\u001b[39;49m\u001b[43m,\u001b[49m\n\u001b[1;32m   1095\u001b[0m \u001b[43m        \u001b[49m\u001b[43mlookahead\u001b[49m\u001b[38;5;241;43m=\u001b[39;49m\u001b[43mlookahead\u001b[49m\u001b[43m,\u001b[49m\n\u001b[1;32m   1096\u001b[0m \u001b[43m        \u001b[49m\u001b[43mstart_date\u001b[49m\u001b[38;5;241;43m=\u001b[39;49m\u001b[43mstart_date\u001b[49m\u001b[43m,\u001b[49m\n\u001b[1;32m   1097\u001b[0m \u001b[43m        \u001b[49m\u001b[43mend_date\u001b[49m\u001b[38;5;241;43m=\u001b[39;49m\u001b[43mend_date\u001b[49m\u001b[43m,\u001b[49m\n\u001b[1;32m   1098\u001b[0m \u001b[43m        \u001b[49m\u001b[43mtimeframe\u001b[49m\u001b[38;5;241;43m=\u001b[39;49m\u001b[43mtimeframe\u001b[49m\u001b[43m,\u001b[49m\n\u001b[1;32m   1099\u001b[0m \u001b[43m        \u001b[49m\u001b[43mbetween_time\u001b[49m\u001b[38;5;241;43m=\u001b[39;49m\u001b[43mbetween_time\u001b[49m\u001b[43m,\u001b[49m\n\u001b[1;32m   1100\u001b[0m \u001b[43m        \u001b[49m\u001b[43mdays\u001b[49m\u001b[38;5;241;43m=\u001b[39;49m\u001b[43mdays\u001b[49m\u001b[43m,\u001b[49m\n\u001b[1;32m   1101\u001b[0m \u001b[43m        \u001b[49m\u001b[43mtrain_size\u001b[49m\u001b[38;5;241;43m=\u001b[39;49m\u001b[43mtrain_size\u001b[49m\u001b[43m,\u001b[49m\n\u001b[1;32m   1102\u001b[0m \u001b[43m        \u001b[49m\u001b[43mshuffle\u001b[49m\u001b[38;5;241;43m=\u001b[39;49m\u001b[43mshuffle\u001b[49m\u001b[43m,\u001b[49m\n\u001b[1;32m   1103\u001b[0m \u001b[43m        \u001b[49m\u001b[43mcalc_bootstrap\u001b[49m\u001b[38;5;241;43m=\u001b[39;49m\u001b[43mcalc_bootstrap\u001b[49m\u001b[43m,\u001b[49m\n\u001b[1;32m   1104\u001b[0m \u001b[43m        \u001b[49m\u001b[43mdisable_parallel\u001b[49m\u001b[38;5;241;43m=\u001b[39;49m\u001b[43mdisable_parallel\u001b[49m\u001b[43m,\u001b[49m\n\u001b[1;32m   1105\u001b[0m \u001b[43m        \u001b[49m\u001b[43mwarmup\u001b[49m\u001b[38;5;241;43m=\u001b[39;49m\u001b[43mwarmup\u001b[49m\u001b[43m,\u001b[49m\n\u001b[1;32m   1106\u001b[0m \u001b[43m        \u001b[49m\u001b[43mportfolio\u001b[49m\u001b[38;5;241;43m=\u001b[39;49m\u001b[43mportfolio\u001b[49m\u001b[43m,\u001b[49m\n\u001b[1;32m   1107\u001b[0m \u001b[43m    \u001b[49m\u001b[43m)\u001b[49m\n",
      "File \u001b[0;32m~/restart_trader/.conda/lib/python3.11/site-packages/pybroker/strategy.py:1213\u001b[0m, in \u001b[0;36mStrategy.walkforward\u001b[0;34m(self, windows, lookahead, start_date, end_date, timeframe, between_time, days, train_size, shuffle, calc_bootstrap, disable_parallel, warmup, portfolio)\u001b[0m\n\u001b[1;32m   1211\u001b[0m     verify_date_range(start_dt, end_dt)\n\u001b[1;32m   1212\u001b[0m \u001b[38;5;28mself\u001b[39m\u001b[38;5;241m.\u001b[39m_logger\u001b[38;5;241m.\u001b[39mwalkforward_start(start_dt, end_dt)\n\u001b[0;32m-> 1213\u001b[0m df \u001b[38;5;241m=\u001b[39m \u001b[38;5;28;43mself\u001b[39;49m\u001b[38;5;241;43m.\u001b[39;49m\u001b[43m_fetch_data\u001b[49m\u001b[43m(\u001b[49m\u001b[43mtimeframe\u001b[49m\u001b[43m)\u001b[49m\n\u001b[1;32m   1214\u001b[0m day_ids \u001b[38;5;241m=\u001b[39m \u001b[38;5;28mself\u001b[39m\u001b[38;5;241m.\u001b[39m_to_day_ids(days)\n\u001b[1;32m   1215\u001b[0m df \u001b[38;5;241m=\u001b[39m \u001b[38;5;28mself\u001b[39m\u001b[38;5;241m.\u001b[39m_filter_dates(\n\u001b[1;32m   1216\u001b[0m     df\u001b[38;5;241m=\u001b[39mdf,\n\u001b[1;32m   1217\u001b[0m     start_date\u001b[38;5;241m=\u001b[39mstart_dt,\n\u001b[0;32m   (...)\u001b[0m\n\u001b[1;32m   1220\u001b[0m     days\u001b[38;5;241m=\u001b[39mday_ids,\n\u001b[1;32m   1221\u001b[0m )\n",
      "File \u001b[0;32m~/restart_trader/.conda/lib/python3.11/site-packages/pybroker/strategy.py:1451\u001b[0m, in \u001b[0;36mStrategy._fetch_data\u001b[0;34m(self, timeframe)\u001b[0m\n\u001b[1;32m   1449\u001b[0m     df \u001b[38;5;241m=\u001b[39m df[df[DataCol\u001b[38;5;241m.\u001b[39mSYMBOL\u001b[38;5;241m.\u001b[39mvalue]\u001b[38;5;241m.\u001b[39misin(unique_syms)]\n\u001b[1;32m   1450\u001b[0m \u001b[38;5;28;01mif\u001b[39;00m df\u001b[38;5;241m.\u001b[39mempty:\n\u001b[0;32m-> 1451\u001b[0m     \u001b[38;5;28;01mraise\u001b[39;00m \u001b[38;5;167;01mValueError\u001b[39;00m(\u001b[38;5;124m\"\u001b[39m\u001b[38;5;124mDataSource is empty.\u001b[39m\u001b[38;5;124m\"\u001b[39m)\n\u001b[1;32m   1452\u001b[0m \u001b[38;5;28;01mreturn\u001b[39;00m df\u001b[38;5;241m.\u001b[39mreset_index(drop\u001b[38;5;241m=\u001b[39m\u001b[38;5;28;01mTrue\u001b[39;00m)\n",
      "\u001b[0;31mValueError\u001b[0m: DataSource is empty."
     ]
    }
   ],
   "source": [
    "# 创建策略配置，初始资金为 500000\n",
    "my_config = pb.StrategyConfig(initial_cash=500000,fee_amount=0.0013,fee_mode = pb.common.FeeMode.ORDER_PERCENT)\n",
    "#使用AKShare获取股票OHLCV数据\n",
    "akshare = AKShare_ETF()\n",
    "\n",
    "df = akshare.query(symbols=[pb.param(name='stock_code')], start_date=pb.param(name='start_date'), end_date=pb.param(name='end_date'),adjust=\"hfq\")\n",
    "# df=ak.stock_zh_a_hist(symbol=\"600519\", period=\"daily\",start_date=pb.param(name='start_date'), end_date=pb.param(name='end_date'),adjust=\"hfq\")\n",
    "#使用at-lib计算并获取指标\n",
    "#计算MACD参数\n",
    "data_with_indicator = calculate_indicator(df)\n",
    "print(\"打印技术指标\")\n",
    "print(data_with_indicator)\n",
    "#macd_data = calculate_macd(df)\n",
    "#存入数据库\n",
    "#save_data_macd(macd_data)\n",
    "\n",
    "# 使用配置、数据源、起始日期、结束日期，以及刚才定义的交易策略创建策略对象\n",
    "#strategy = Strategy(akshare, start_date='20230101', end_date='20230201', config=my_config)\n",
    "# 添加执行策略，设置股票代码和要执行的函数\n",
    "\n",
    "#在pybroker中注册指标名称\n",
    "'''MACD指标'''\n",
    "pb.register_columns('macd')\n",
    "pb.register_columns('macdsignal')\n",
    "pb.register_columns('macdhist')\n",
    "\n",
    "'''MFI指标'''\n",
    "pb.register_columns('MFI')\n",
    "\n",
    "#创建策略\n",
    "strategy = Strategy(data_with_indicator, start_date=pb.param(name='start_date'), end_date=pb.param(name='end_date'), config=my_config)\n",
    "#配置策略执行参数\n",
    "strategy.add_execution(buy_with_indicator, symbols=[pb.param(name='stock_code')])\n",
    "\n",
    "# 执行回测，并打印出回测结果的度量值（四舍五入到小数点后四位）\n",
    "result = strategy.backtest()\n",
    "print('======基准收益率==========================')\n",
    "first_open = df['open'].iloc[0]\n",
    "last_open = df['open'].iloc[-1]\n",
    "benchmark_return = (last_open - first_open) / first_open * 100\n",
    "print(f\"基准收益率{benchmark_return}\")\n",
    "print('======查看绩效==========================')\n",
    "print(result.metrics_df.round(2))\n",
    "print('======查看订单==========================')\n",
    "print(result.orders)\n",
    "print('======查看持仓==========================')\n",
    "print(result.positions)\n",
    "print('======查看投资组合==========================')\n",
    "print(result.portfolio)\n",
    "print('======查看交易==========================')\n",
    "print(result.trades)\n",
    "create_strategy_charts(data_with_indicator,result)"
   ]
  },
  {
   "cell_type": "code",
   "execution_count": null,
   "metadata": {},
   "outputs": [],
   "source": []
  }
 ],
 "metadata": {
  "kernelspec": {
   "display_name": "Python 3",
   "language": "python",
   "name": "python3"
  },
  "language_info": {
   "codemirror_mode": {
    "name": "ipython",
    "version": 3
   },
   "file_extension": ".py",
   "mimetype": "text/x-python",
   "name": "python",
   "nbconvert_exporter": "python",
   "pygments_lexer": "ipython3",
   "version": "3.11.10"
  }
 },
 "nbformat": 4,
 "nbformat_minor": 2
}
